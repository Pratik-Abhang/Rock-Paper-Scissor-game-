{
 "cells": [
  {
   "cell_type": "code",
   "execution_count": 16,
   "id": "b8771858",
   "metadata": {},
   "outputs": [
    {
     "name": "stdout",
     "output_type": "stream",
     "text": [
      "enter your choice : 'Rock','Paper','Scissor'Rock\n",
      "user choice = Rock , Computer choice = Paper\n",
      "Computer win : Paper cover rock\n"
     ]
    }
   ],
   "source": [
    "# Rock Paper Scissor game \n",
    "\n",
    "import random\n",
    "item_list=['Rock','Paper','Scissor']\n",
    "\n",
    "user_choice=input(\"enter your choice : 'Rock','Paper','Scissor'\")\n",
    "comp_choice=random.choice(item_list)\n",
    "\n",
    "print(f\"user choice = {user_choice} , Computer choice = {comp_choice}\")\n",
    "\n",
    "if user_choice==comp_choice:\n",
    "    print(\"Both chooses same : Match Tie\")\n",
    "\n",
    "elif user_choice==\"Rock\":\n",
    "    if comp_choice=='Paper':\n",
    "        print(\"Computer win : Paper cover rock\")\n",
    "    else:\n",
    "        print(\"user win : Rock smashes scissor\")\n",
    "\n",
    "elif user_choice==\"Paper\":\n",
    "    if comp_choice==\"Rock\":\n",
    "        print(\"user win : Paper cover rock\")\n",
    "    else:\n",
    "        print(\"Computer win : scissor cuts the paper \")\n",
    "\n",
    "elif user_choice==\"Scissor\":\n",
    "    if comp_choice==\"Rock\":\n",
    "        print(\"Computer win : rock smashes scissor\")\n",
    "    else:\n",
    "        print(\"user win : scissor cuts paper\")"
   ]
  },
  {
   "cell_type": "code",
   "execution_count": null,
   "id": "4f86c158",
   "metadata": {},
   "outputs": [],
   "source": []
  },
  {
   "cell_type": "code",
   "execution_count": null,
   "id": "4273d0e1",
   "metadata": {},
   "outputs": [],
   "source": []
  }
 ],
 "metadata": {
  "kernelspec": {
   "display_name": "Python 3 (ipykernel)",
   "language": "python",
   "name": "python3"
  },
  "language_info": {
   "codemirror_mode": {
    "name": "ipython",
    "version": 3
   },
   "file_extension": ".py",
   "mimetype": "text/x-python",
   "name": "python",
   "nbconvert_exporter": "python",
   "pygments_lexer": "ipython3",
   "version": "3.11.4"
  }
 },
 "nbformat": 4,
 "nbformat_minor": 5
}
